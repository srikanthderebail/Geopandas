{
 "cells": [
  {
   "cell_type": "markdown",
   "metadata": {},
   "source": [
    "## Understanding geopandas\n",
    "Many data analysis scenarios deal with geographical data such a population distribution in different states of United States, sales across different stores in a particular country, etc. Geopandas is a useful dataframe tool to handle such data. The principal advantage of using geopandas is that it provides a geometry column which contains gemoetrical information for a given row. It also enables visualizing your results on a map. So let us see an example of how this all works."
   ]
  },
  {
   "cell_type": "code",
   "execution_count": 1,
   "metadata": {
    "collapsed": true
   },
   "outputs": [],
   "source": [
    "# Import all the relevant libraries\n",
    "import numpy as np\n",
    "import geopandas as gpd\n",
    "import pandas as pd\n",
    "import matplotlib.pyplot as plt\n",
    "\n",
    "%matplotlib inline"
   ]
  },
  {
   "cell_type": "markdown",
   "metadata": {},
   "source": [
    "I have already stored a .geojson file that contains gemoetry information about different states of India obtained from https://groups.google.com/forum/#!topic/datameet/dZ96g7ngWAg. You can usually find .geojson files for different countries of regions by few google searches. The directory also contains another dataset obtained from kaggle https://www.kaggle.com/rajanand/education-in-india/data, which contains population, area, education information for different states. The aim is to visualize this results on an indian map. Note that there is some data clean up that has to be done for this to work. You should have a primary key, name of state in our case, which should be same in both dataframes."
   ]
  },
  {
   "cell_type": "code",
   "execution_count": 2,
   "metadata": {},
   "outputs": [
    {
     "name": "stdout",
     "output_type": "stream",
     "text": [
      "Geopandas.ipynb       India_data.csv        india_states.geojson\r\n"
     ]
    }
   ],
   "source": [
    "%ls"
   ]
  },
  {
   "cell_type": "markdown",
   "metadata": {},
   "source": [
    "First let us read the .geojson file to a geopanda dataframe object named india_map, and see how it looks."
   ]
  },
  {
   "cell_type": "code",
   "execution_count": 3,
   "metadata": {},
   "outputs": [
    {
     "data": {
      "text/html": [
       "<div>\n",
       "<style>\n",
       "    .dataframe thead tr:only-child th {\n",
       "        text-align: right;\n",
       "    }\n",
       "\n",
       "    .dataframe thead th {\n",
       "        text-align: left;\n",
       "    }\n",
       "\n",
       "    .dataframe tbody tr th {\n",
       "        vertical-align: top;\n",
       "    }\n",
       "</style>\n",
       "<table border=\"1\" class=\"dataframe\">\n",
       "  <thead>\n",
       "    <tr style=\"text-align: right;\">\n",
       "      <th></th>\n",
       "      <th>ID_0</th>\n",
       "      <th>ISO</th>\n",
       "      <th>NAME_0</th>\n",
       "      <th>ID_1</th>\n",
       "      <th>NAME_1</th>\n",
       "      <th>NL_NAME_1</th>\n",
       "      <th>VARNAME_1</th>\n",
       "      <th>TYPE_1</th>\n",
       "      <th>ENGTYPE_1</th>\n",
       "      <th>filename</th>\n",
       "      <th>filename_1</th>\n",
       "      <th>filename_2</th>\n",
       "      <th>filename_3</th>\n",
       "      <th>filename_4</th>\n",
       "      <th>geometry</th>\n",
       "    </tr>\n",
       "  </thead>\n",
       "  <tbody>\n",
       "    <tr>\n",
       "      <th>0</th>\n",
       "      <td>105</td>\n",
       "      <td>IND</td>\n",
       "      <td>India</td>\n",
       "      <td>1</td>\n",
       "      <td>Andaman and Nicobar</td>\n",
       "      <td></td>\n",
       "      <td>Andaman &amp; Nicobar Islands|Andaman et Nicobar|I...</td>\n",
       "      <td>Union Territor</td>\n",
       "      <td>Union Territory</td>\n",
       "      <td></td>\n",
       "      <td></td>\n",
       "      <td></td>\n",
       "      <td></td>\n",
       "      <td></td>\n",
       "      <td>(POLYGON ((93.787727 6.85264, 93.78849 6.85257...</td>\n",
       "    </tr>\n",
       "    <tr>\n",
       "      <th>1</th>\n",
       "      <td>105</td>\n",
       "      <td>IND</td>\n",
       "      <td>India</td>\n",
       "      <td>2</td>\n",
       "      <td>Andhra Pradesh</td>\n",
       "      <td></td>\n",
       "      <td></td>\n",
       "      <td>State</td>\n",
       "      <td>State</td>\n",
       "      <td></td>\n",
       "      <td></td>\n",
       "      <td></td>\n",
       "      <td></td>\n",
       "      <td></td>\n",
       "      <td>(POLYGON ((80.274582 13.459583, 80.274582 13.4...</td>\n",
       "    </tr>\n",
       "    <tr>\n",
       "      <th>2</th>\n",
       "      <td>105</td>\n",
       "      <td>IND</td>\n",
       "      <td>India</td>\n",
       "      <td>3</td>\n",
       "      <td>Arunachal Pradesh</td>\n",
       "      <td></td>\n",
       "      <td>Agence de la Frontire du Nord-Est(French-obsol...</td>\n",
       "      <td>State</td>\n",
       "      <td>State</td>\n",
       "      <td></td>\n",
       "      <td></td>\n",
       "      <td></td>\n",
       "      <td></td>\n",
       "      <td></td>\n",
       "      <td>POLYGON ((96.157776 29.383101, 96.163803 29.37...</td>\n",
       "    </tr>\n",
       "    <tr>\n",
       "      <th>3</th>\n",
       "      <td>105</td>\n",
       "      <td>IND</td>\n",
       "      <td>India</td>\n",
       "      <td>4</td>\n",
       "      <td>Assam</td>\n",
       "      <td></td>\n",
       "      <td></td>\n",
       "      <td>State</td>\n",
       "      <td>State</td>\n",
       "      <td></td>\n",
       "      <td></td>\n",
       "      <td></td>\n",
       "      <td></td>\n",
       "      <td></td>\n",
       "      <td>(POLYGON ((89.87145200000001 25.537298, 89.871...</td>\n",
       "    </tr>\n",
       "    <tr>\n",
       "      <th>4</th>\n",
       "      <td>105</td>\n",
       "      <td>IND</td>\n",
       "      <td>India</td>\n",
       "      <td>5</td>\n",
       "      <td>Bihar</td>\n",
       "      <td></td>\n",
       "      <td></td>\n",
       "      <td>State</td>\n",
       "      <td>State</td>\n",
       "      <td></td>\n",
       "      <td></td>\n",
       "      <td></td>\n",
       "      <td></td>\n",
       "      <td></td>\n",
       "      <td>(POLYGON ((88.105476 26.53904, 88.105048999999...</td>\n",
       "    </tr>\n",
       "  </tbody>\n",
       "</table>\n",
       "</div>"
      ],
      "text/plain": [
       "   ID_0  ISO NAME_0  ID_1               NAME_1 NL_NAME_1  \\\n",
       "0   105  IND  India     1  Andaman and Nicobar             \n",
       "1   105  IND  India     2       Andhra Pradesh             \n",
       "2   105  IND  India     3    Arunachal Pradesh             \n",
       "3   105  IND  India     4                Assam             \n",
       "4   105  IND  India     5                Bihar             \n",
       "\n",
       "                                           VARNAME_1          TYPE_1  \\\n",
       "0  Andaman & Nicobar Islands|Andaman et Nicobar|I...  Union Territor   \n",
       "1                                                              State   \n",
       "2  Agence de la Frontire du Nord-Est(French-obsol...           State   \n",
       "3                                                              State   \n",
       "4                                                              State   \n",
       "\n",
       "         ENGTYPE_1 filename filename_1 filename_2 filename_3 filename_4  \\\n",
       "0  Union Territory                                                        \n",
       "1            State                                                        \n",
       "2            State                                                        \n",
       "3            State                                                        \n",
       "4            State                                                        \n",
       "\n",
       "                                            geometry  \n",
       "0  (POLYGON ((93.787727 6.85264, 93.78849 6.85257...  \n",
       "1  (POLYGON ((80.274582 13.459583, 80.274582 13.4...  \n",
       "2  POLYGON ((96.157776 29.383101, 96.163803 29.37...  \n",
       "3  (POLYGON ((89.87145200000001 25.537298, 89.871...  \n",
       "4  (POLYGON ((88.105476 26.53904, 88.105048999999...  "
      ]
     },
     "execution_count": 3,
     "metadata": {},
     "output_type": "execute_result"
    }
   ],
   "source": [
    "# read the geojson file that contains coordinates of indian states\n",
    "# It is stored as a dataframe object and you can apply all the pandas dataframe functions on it\n",
    "india_map = gpd.read_file('india_states.geojson')\n",
    "india_map.head()"
   ]
  },
  {
   "cell_type": "markdown",
   "metadata": {},
   "source": [
    "Though the data contains lot of columns that are unnecassary (this is normal when you download a data from internet!!), it contains names of states in column 'Name_1' and the coordinates of each state in 'geometry'. Let us check the type of this data, and convince ourselves that it is indeed a dataframe object"
   ]
  },
  {
   "cell_type": "code",
   "execution_count": 4,
   "metadata": {},
   "outputs": [
    {
     "data": {
      "text/plain": [
       "geopandas.geodataframe.GeoDataFrame"
      ]
     },
     "execution_count": 4,
     "metadata": {},
     "output_type": "execute_result"
    }
   ],
   "source": [
    "# Check the type of the dataframe object\n",
    "type(india_map)"
   ]
  },
  {
   "cell_type": "markdown",
   "metadata": {},
   "source": [
    "As we don't need all the columns, we will only save the columns 'Name_1' and 'geometry' and also rename 'Name_1' as 'statname'."
   ]
  },
  {
   "cell_type": "code",
   "execution_count": 5,
   "metadata": {},
   "outputs": [
    {
     "data": {
      "text/html": [
       "<div>\n",
       "<style>\n",
       "    .dataframe thead tr:only-child th {\n",
       "        text-align: right;\n",
       "    }\n",
       "\n",
       "    .dataframe thead th {\n",
       "        text-align: left;\n",
       "    }\n",
       "\n",
       "    .dataframe tbody tr th {\n",
       "        vertical-align: top;\n",
       "    }\n",
       "</style>\n",
       "<table border=\"1\" class=\"dataframe\">\n",
       "  <thead>\n",
       "    <tr style=\"text-align: right;\">\n",
       "      <th></th>\n",
       "      <th>statname</th>\n",
       "      <th>geometry</th>\n",
       "    </tr>\n",
       "  </thead>\n",
       "  <tbody>\n",
       "    <tr>\n",
       "      <th>0</th>\n",
       "      <td>Andaman and Nicobar</td>\n",
       "      <td>(POLYGON ((93.787727 6.85264, 93.78849 6.85257...</td>\n",
       "    </tr>\n",
       "    <tr>\n",
       "      <th>1</th>\n",
       "      <td>Andhra Pradesh</td>\n",
       "      <td>(POLYGON ((80.274582 13.459583, 80.274582 13.4...</td>\n",
       "    </tr>\n",
       "    <tr>\n",
       "      <th>2</th>\n",
       "      <td>Arunachal Pradesh</td>\n",
       "      <td>POLYGON ((96.157776 29.383101, 96.163803 29.37...</td>\n",
       "    </tr>\n",
       "    <tr>\n",
       "      <th>3</th>\n",
       "      <td>Assam</td>\n",
       "      <td>(POLYGON ((89.87145200000001 25.537298, 89.871...</td>\n",
       "    </tr>\n",
       "    <tr>\n",
       "      <th>4</th>\n",
       "      <td>Bihar</td>\n",
       "      <td>(POLYGON ((88.105476 26.53904, 88.105048999999...</td>\n",
       "    </tr>\n",
       "  </tbody>\n",
       "</table>\n",
       "</div>"
      ],
      "text/plain": [
       "              statname                                           geometry\n",
       "0  Andaman and Nicobar  (POLYGON ((93.787727 6.85264, 93.78849 6.85257...\n",
       "1       Andhra Pradesh  (POLYGON ((80.274582 13.459583, 80.274582 13.4...\n",
       "2    Arunachal Pradesh  POLYGON ((96.157776 29.383101, 96.163803 29.37...\n",
       "3                Assam  (POLYGON ((89.87145200000001 25.537298, 89.871...\n",
       "4                Bihar  (POLYGON ((88.105476 26.53904, 88.105048999999..."
      ]
     },
     "execution_count": 5,
     "metadata": {},
     "output_type": "execute_result"
    }
   ],
   "source": [
    "# Let us only save the columns Name 1 and geometry, and rename Name 1 and statname\n",
    "india_map = india_map[['NAME_1','geometry']]\n",
    "india_map.rename(columns={'NAME_1':'statname'},inplace=True)\n",
    "india_map.head()"
   ]
  },
  {
   "cell_type": "markdown",
   "metadata": {},
   "source": [
    "Now we have succesfully read and cleaned the geojson file into a geopanda dataframe object. We can even plot this data!"
   ]
  },
  {
   "cell_type": "code",
   "execution_count": 6,
   "metadata": {},
   "outputs": [
    {
     "data": {
      "text/plain": [
       "<matplotlib.axes._subplots.AxesSubplot at 0x117be4940>"
      ]
     },
     "execution_count": 6,
     "metadata": {},
     "output_type": "execute_result"
    },
    {
     "data": {
      "image/png": "[encoded data removed]",
      "text/plain": [
       "<matplotlib.figure.Figure at 0x117c11630>"
      ]
     },
     "metadata": {},
     "output_type": "display_data"
    }
   ],
   "source": [
    "# Plot the data using a random colormap\n",
    "india_map.plot(figsize=(15,15),cmap='terrain')"
   ]
  },
  {
   "cell_type": "markdown",
   "metadata": {},
   "source": [
    "Its time to read the second dataset 'India_data.csv'. This is the dataset one would like to visualize on a map. "
   ]
  },
  {
   "cell_type": "code",
   "execution_count": 7,
   "metadata": {},
   "outputs": [
    {
     "data": {
      "text/html": [
       "<div>\n",
       "<style>\n",
       "    .dataframe thead tr:only-child th {\n",
       "        text-align: right;\n",
       "    }\n",
       "\n",
       "    .dataframe thead th {\n",
       "        text-align: left;\n",
       "    }\n",
       "\n",
       "    .dataframe tbody tr th {\n",
       "        vertical-align: top;\n",
       "    }\n",
       "</style>\n",
       "<table border=\"1\" class=\"dataframe\">\n",
       "  <thead>\n",
       "    <tr style=\"text-align: right;\">\n",
       "      <th></th>\n",
       "      <th>ac_year</th>\n",
       "      <th>statcd</th>\n",
       "      <th>statname</th>\n",
       "      <th>area_sqkm</th>\n",
       "      <th>tot_population</th>\n",
       "      <th>urban_population</th>\n",
       "      <th>grwoth_rate</th>\n",
       "      <th>sexratio</th>\n",
       "      <th>sc_population</th>\n",
       "      <th>st_population</th>\n",
       "      <th>...</th>\n",
       "      <th>tchmed_nr</th>\n",
       "      <th>tchoth_nr</th>\n",
       "      <th>tchse_nr</th>\n",
       "      <th>tchnr_nr</th>\n",
       "      <th>enrc7_py</th>\n",
       "      <th>enrc8_py</th>\n",
       "      <th>enrc9_py</th>\n",
       "      <th>enrc10_py</th>\n",
       "      <th>enr11_py</th>\n",
       "      <th>enr12_py</th>\n",
       "    </tr>\n",
       "  </thead>\n",
       "  <tbody>\n",
       "    <tr>\n",
       "      <th>0</th>\n",
       "      <td>2015-16</td>\n",
       "      <td>1</td>\n",
       "      <td>Jammu and Kashmir</td>\n",
       "      <td>222236.0</td>\n",
       "      <td>12548.93</td>\n",
       "      <td>20.05</td>\n",
       "      <td>23.71</td>\n",
       "      <td>883.0</td>\n",
       "      <td>7.4</td>\n",
       "      <td>11.9</td>\n",
       "      <td>...</td>\n",
       "      <td>0</td>\n",
       "      <td>0</td>\n",
       "      <td>0</td>\n",
       "      <td>0</td>\n",
       "      <td>199954</td>\n",
       "      <td>203537</td>\n",
       "      <td>192567</td>\n",
       "      <td>146066</td>\n",
       "      <td>138963</td>\n",
       "      <td>116187</td>\n",
       "    </tr>\n",
       "    <tr>\n",
       "      <th>1</th>\n",
       "      <td>2015-16</td>\n",
       "      <td>2</td>\n",
       "      <td>Himachal Pradesh</td>\n",
       "      <td>55673.0</td>\n",
       "      <td>6856.51</td>\n",
       "      <td>8.69</td>\n",
       "      <td>12.81</td>\n",
       "      <td>974.0</td>\n",
       "      <td>25.2</td>\n",
       "      <td>5.7</td>\n",
       "      <td>...</td>\n",
       "      <td>0</td>\n",
       "      <td>0</td>\n",
       "      <td>0</td>\n",
       "      <td>0</td>\n",
       "      <td>122101</td>\n",
       "      <td>122413</td>\n",
       "      <td>130258</td>\n",
       "      <td>135253</td>\n",
       "      <td>119932</td>\n",
       "      <td>98924</td>\n",
       "    </tr>\n",
       "    <tr>\n",
       "      <th>2</th>\n",
       "      <td>2015-16</td>\n",
       "      <td>3</td>\n",
       "      <td>Punjab</td>\n",
       "      <td>50362.0</td>\n",
       "      <td>27704.24</td>\n",
       "      <td>29.82</td>\n",
       "      <td>13.73</td>\n",
       "      <td>893.0</td>\n",
       "      <td>31.9</td>\n",
       "      <td>0.0</td>\n",
       "      <td>...</td>\n",
       "      <td>0</td>\n",
       "      <td>0</td>\n",
       "      <td>0</td>\n",
       "      <td>0</td>\n",
       "      <td>481982</td>\n",
       "      <td>473349</td>\n",
       "      <td>451412</td>\n",
       "      <td>426034</td>\n",
       "      <td>351639</td>\n",
       "      <td>342835</td>\n",
       "    </tr>\n",
       "    <tr>\n",
       "      <th>3</th>\n",
       "      <td>2015-16</td>\n",
       "      <td>4</td>\n",
       "      <td>Chandigarh</td>\n",
       "      <td>114.0</td>\n",
       "      <td>1054.69</td>\n",
       "      <td>76.66</td>\n",
       "      <td>17.10</td>\n",
       "      <td>818.0</td>\n",
       "      <td>18.9</td>\n",
       "      <td>0.0</td>\n",
       "      <td>...</td>\n",
       "      <td>0</td>\n",
       "      <td>0</td>\n",
       "      <td>0</td>\n",
       "      <td>0</td>\n",
       "      <td>21344</td>\n",
       "      <td>21321</td>\n",
       "      <td>21545</td>\n",
       "      <td>16708</td>\n",
       "      <td>20948</td>\n",
       "      <td>17943</td>\n",
       "    </tr>\n",
       "    <tr>\n",
       "      <th>4</th>\n",
       "      <td>2015-16</td>\n",
       "      <td>5</td>\n",
       "      <td>Uttarakhand</td>\n",
       "      <td>53483.0</td>\n",
       "      <td>10116.75</td>\n",
       "      <td>21.54</td>\n",
       "      <td>19.17</td>\n",
       "      <td>963.0</td>\n",
       "      <td>18.8</td>\n",
       "      <td>2.9</td>\n",
       "      <td>...</td>\n",
       "      <td>0</td>\n",
       "      <td>0</td>\n",
       "      <td>0</td>\n",
       "      <td>0</td>\n",
       "      <td>193393</td>\n",
       "      <td>193890</td>\n",
       "      <td>197590</td>\n",
       "      <td>200769</td>\n",
       "      <td>150799</td>\n",
       "      <td>162100</td>\n",
       "    </tr>\n",
       "  </tbody>\n",
       "</table>\n",
       "<p>5 rows × 630 columns</p>\n",
       "</div>"
      ],
      "text/plain": [
       "   ac_year  statcd           statname  area_sqkm  tot_population  \\\n",
       "0  2015-16       1  Jammu and Kashmir   222236.0        12548.93   \n",
       "1  2015-16       2   Himachal Pradesh    55673.0         6856.51   \n",
       "2  2015-16       3             Punjab    50362.0        27704.24   \n",
       "3  2015-16       4         Chandigarh      114.0         1054.69   \n",
       "4  2015-16       5        Uttarakhand    53483.0        10116.75   \n",
       "\n",
       "   urban_population  grwoth_rate  sexratio  sc_population  st_population  \\\n",
       "0             20.05        23.71     883.0            7.4           11.9   \n",
       "1              8.69        12.81     974.0           25.2            5.7   \n",
       "2             29.82        13.73     893.0           31.9            0.0   \n",
       "3             76.66        17.10     818.0           18.9            0.0   \n",
       "4             21.54        19.17     963.0           18.8            2.9   \n",
       "\n",
       "     ...     tchmed_nr  tchoth_nr  tchse_nr  tchnr_nr  enrc7_py  enrc8_py  \\\n",
       "0    ...             0          0         0         0    199954    203537   \n",
       "1    ...             0          0         0         0    122101    122413   \n",
       "2    ...             0          0         0         0    481982    473349   \n",
       "3    ...             0          0         0         0     21344     21321   \n",
       "4    ...             0          0         0         0    193393    193890   \n",
       "\n",
       "   enrc9_py  enrc10_py  enr11_py  enr12_py  \n",
       "0    192567     146066    138963    116187  \n",
       "1    130258     135253    119932     98924  \n",
       "2    451412     426034    351639    342835  \n",
       "3     21545      16708     20948     17943  \n",
       "4    197590     200769    150799    162100  \n",
       "\n",
       "[5 rows x 630 columns]"
      ]
     },
     "execution_count": 7,
     "metadata": {},
     "output_type": "execute_result"
    }
   ],
   "source": [
    "# Now let us read another database which contains statewise population of India, along with growth_rate, area, etc. \n",
    "data = pd.read_csv('India_data.csv')\n",
    "data.head()"
   ]
  },
  {
   "cell_type": "markdown",
   "metadata": {},
   "source": [
    "It contains several information. For this example, we will only consider the total population which is in the column 'tot_population'. Thus we will modify the data_pop dataframe to contain only the 'statname' and 'tot_population'."
   ]
  },
  {
   "cell_type": "code",
   "execution_count": 8,
   "metadata": {},
   "outputs": [
    {
     "data": {
      "text/html": [
       "<div>\n",
       "<style>\n",
       "    .dataframe thead tr:only-child th {\n",
       "        text-align: right;\n",
       "    }\n",
       "\n",
       "    .dataframe thead th {\n",
       "        text-align: left;\n",
       "    }\n",
       "\n",
       "    .dataframe tbody tr th {\n",
       "        vertical-align: top;\n",
       "    }\n",
       "</style>\n",
       "<table border=\"1\" class=\"dataframe\">\n",
       "  <thead>\n",
       "    <tr style=\"text-align: right;\">\n",
       "      <th></th>\n",
       "      <th>statname</th>\n",
       "      <th>tot_population</th>\n",
       "    </tr>\n",
       "  </thead>\n",
       "  <tbody>\n",
       "    <tr>\n",
       "      <th>0</th>\n",
       "      <td>Jammu and Kashmir</td>\n",
       "      <td>12548.93</td>\n",
       "    </tr>\n",
       "    <tr>\n",
       "      <th>1</th>\n",
       "      <td>Himachal Pradesh</td>\n",
       "      <td>6856.51</td>\n",
       "    </tr>\n",
       "    <tr>\n",
       "      <th>2</th>\n",
       "      <td>Punjab</td>\n",
       "      <td>27704.24</td>\n",
       "    </tr>\n",
       "    <tr>\n",
       "      <th>3</th>\n",
       "      <td>Chandigarh</td>\n",
       "      <td>1054.69</td>\n",
       "    </tr>\n",
       "    <tr>\n",
       "      <th>4</th>\n",
       "      <td>Uttarakhand</td>\n",
       "      <td>10116.75</td>\n",
       "    </tr>\n",
       "    <tr>\n",
       "      <th>5</th>\n",
       "      <td>Haryana</td>\n",
       "      <td>25353.08</td>\n",
       "    </tr>\n",
       "    <tr>\n",
       "      <th>6</th>\n",
       "      <td>Delhi</td>\n",
       "      <td>16753.24</td>\n",
       "    </tr>\n",
       "    <tr>\n",
       "      <th>7</th>\n",
       "      <td>Rajasthan</td>\n",
       "      <td>68621.01</td>\n",
       "    </tr>\n",
       "    <tr>\n",
       "      <th>8</th>\n",
       "      <td>Uttar Pradesh</td>\n",
       "      <td>199581.48</td>\n",
       "    </tr>\n",
       "    <tr>\n",
       "      <th>9</th>\n",
       "      <td>Bihar</td>\n",
       "      <td>103804.64</td>\n",
       "    </tr>\n",
       "    <tr>\n",
       "      <th>10</th>\n",
       "      <td>Sikkim</td>\n",
       "      <td>607.69</td>\n",
       "    </tr>\n",
       "    <tr>\n",
       "      <th>11</th>\n",
       "      <td>Arunachal Pradesh</td>\n",
       "      <td>1382.61</td>\n",
       "    </tr>\n",
       "    <tr>\n",
       "      <th>12</th>\n",
       "      <td>Nagaland</td>\n",
       "      <td>1980.60</td>\n",
       "    </tr>\n",
       "    <tr>\n",
       "      <th>13</th>\n",
       "      <td>Manipur</td>\n",
       "      <td>2721.76</td>\n",
       "    </tr>\n",
       "    <tr>\n",
       "      <th>14</th>\n",
       "      <td>Mizoram</td>\n",
       "      <td>1091.01</td>\n",
       "    </tr>\n",
       "    <tr>\n",
       "      <th>15</th>\n",
       "      <td>Tripura</td>\n",
       "      <td>3671.03</td>\n",
       "    </tr>\n",
       "    <tr>\n",
       "      <th>16</th>\n",
       "      <td>Meghalaya</td>\n",
       "      <td>2964.01</td>\n",
       "    </tr>\n",
       "    <tr>\n",
       "      <th>17</th>\n",
       "      <td>Assam</td>\n",
       "      <td>31169.27</td>\n",
       "    </tr>\n",
       "    <tr>\n",
       "      <th>18</th>\n",
       "      <td>West Bengal</td>\n",
       "      <td>91347.74</td>\n",
       "    </tr>\n",
       "    <tr>\n",
       "      <th>19</th>\n",
       "      <td>Jharkhand</td>\n",
       "      <td>32966.24</td>\n",
       "    </tr>\n",
       "    <tr>\n",
       "      <th>20</th>\n",
       "      <td>Orissa</td>\n",
       "      <td>41947.36</td>\n",
       "    </tr>\n",
       "    <tr>\n",
       "      <th>21</th>\n",
       "      <td>Chhattisgarh</td>\n",
       "      <td>25540.20</td>\n",
       "    </tr>\n",
       "    <tr>\n",
       "      <th>22</th>\n",
       "      <td>Madhya Pradesh</td>\n",
       "      <td>72597.57</td>\n",
       "    </tr>\n",
       "    <tr>\n",
       "      <th>23</th>\n",
       "      <td>Gujarat</td>\n",
       "      <td>60383.63</td>\n",
       "    </tr>\n",
       "    <tr>\n",
       "      <th>24</th>\n",
       "      <td>Daman and Diu</td>\n",
       "      <td>242.91</td>\n",
       "    </tr>\n",
       "    <tr>\n",
       "      <th>25</th>\n",
       "      <td>Dadra and Nagar Haveli</td>\n",
       "      <td>342.85</td>\n",
       "    </tr>\n",
       "    <tr>\n",
       "      <th>26</th>\n",
       "      <td>Maharashtra</td>\n",
       "      <td>112372.97</td>\n",
       "    </tr>\n",
       "    <tr>\n",
       "      <th>27</th>\n",
       "      <td>Andhra Pradesh</td>\n",
       "      <td>84665.53</td>\n",
       "    </tr>\n",
       "    <tr>\n",
       "      <th>28</th>\n",
       "      <td>Karnataka</td>\n",
       "      <td>61130.70</td>\n",
       "    </tr>\n",
       "    <tr>\n",
       "      <th>29</th>\n",
       "      <td>Goa</td>\n",
       "      <td>1457.72</td>\n",
       "    </tr>\n",
       "    <tr>\n",
       "      <th>30</th>\n",
       "      <td>Lakshadweep</td>\n",
       "      <td>64.43</td>\n",
       "    </tr>\n",
       "    <tr>\n",
       "      <th>31</th>\n",
       "      <td>Kerala</td>\n",
       "      <td>33387.68</td>\n",
       "    </tr>\n",
       "    <tr>\n",
       "      <th>32</th>\n",
       "      <td>Tamil Nadu</td>\n",
       "      <td>72138.96</td>\n",
       "    </tr>\n",
       "    <tr>\n",
       "      <th>33</th>\n",
       "      <td>Puducherry</td>\n",
       "      <td>1244.46</td>\n",
       "    </tr>\n",
       "    <tr>\n",
       "      <th>34</th>\n",
       "      <td>Andaman and Nicobar Islands</td>\n",
       "      <td>379.94</td>\n",
       "    </tr>\n",
       "  </tbody>\n",
       "</table>\n",
       "</div>"
      ],
      "text/plain": [
       "                          statname  tot_population\n",
       "0                Jammu and Kashmir        12548.93\n",
       "1                 Himachal Pradesh         6856.51\n",
       "2                           Punjab        27704.24\n",
       "3                       Chandigarh         1054.69\n",
       "4                      Uttarakhand        10116.75\n",
       "5                          Haryana        25353.08\n",
       "6   Delhi                                 16753.24\n",
       "7                        Rajasthan        68621.01\n",
       "8                    Uttar Pradesh       199581.48\n",
       "9                            Bihar       103804.64\n",
       "10                          Sikkim          607.69\n",
       "11               Arunachal Pradesh         1382.61\n",
       "12                        Nagaland         1980.60\n",
       "13                         Manipur         2721.76\n",
       "14                         Mizoram         1091.01\n",
       "15                         Tripura         3671.03\n",
       "16                       Meghalaya         2964.01\n",
       "17                           Assam        31169.27\n",
       "18                     West Bengal        91347.74\n",
       "19                       Jharkhand        32966.24\n",
       "20                          Orissa        41947.36\n",
       "21                    Chhattisgarh        25540.20\n",
       "22                  Madhya Pradesh        72597.57\n",
       "23                         Gujarat        60383.63\n",
       "24                   Daman and Diu          242.91\n",
       "25          Dadra and Nagar Haveli          342.85\n",
       "26                     Maharashtra       112372.97\n",
       "27                  Andhra Pradesh        84665.53\n",
       "28                       Karnataka        61130.70\n",
       "29                             Goa         1457.72\n",
       "30                     Lakshadweep           64.43\n",
       "31                          Kerala        33387.68\n",
       "32                      Tamil Nadu        72138.96\n",
       "33                      Puducherry         1244.46\n",
       "34     Andaman and Nicobar Islands          379.94"
      ]
     },
     "execution_count": 8,
     "metadata": {},
     "output_type": "execute_result"
    }
   ],
   "source": [
    "# We will keep only the columns statname and tot_population and drop any nan values\n",
    "data_pop = data[['statname','tot_population']].dropna()\n",
    "data_pop"
   ]
  },
  {
   "cell_type": "markdown",
   "metadata": {},
   "source": [
    "The power of geopandas is that it allows us to merge the two dataframes based on a primary key, similar to any pandas dataframe. Let us do it!"
   ]
  },
  {
   "cell_type": "code",
   "execution_count": 9,
   "metadata": {
    "collapsed": true
   },
   "outputs": [],
   "source": [
    "# The best part of geopandas is you can use to merge with other pandas dataframe\n",
    "# Here we will merge popoulation data \n",
    "india_map_pop = india_map.merge(data_pop,on='statname')"
   ]
  },
  {
   "cell_type": "code",
   "execution_count": 10,
   "metadata": {},
   "outputs": [
    {
     "data": {
      "image/png": "[encoded data removed]",
      "text/plain": [
       "<matplotlib.figure.Figure at 0x118935da0>"
      ]
     },
     "metadata": {},
     "output_type": "display_data"
    }
   ],
   "source": [
    "# Now you can visualize the demography distribution of different states differentiated by colors.\n",
    "plot1 = india_map_pop.plot(column='tot_population',figsize=(10,10),cmap = 'OrRd')"
   ]
  },
  {
   "cell_type": "markdown",
   "metadata": {},
   "source": [
    "In this manner, one can visualize their data which is dependent on geography by plotting it over a map. \n",
    "Geopandas also provides other functionalities such as verifying whether a point lies in a particular geometry, distance between points, area of a geometry, etc. Let us see an example, where we would like to know which state does a city Bangalore belong to using the function 'contains'."
   ]
  },
  {
   "cell_type": "code",
   "execution_count": 25,
   "metadata": {},
   "outputs": [
    {
     "data": {
      "text/plain": [
       "shapely.geometry.point.Point"
      ]
     },
     "execution_count": 25,
     "metadata": {},
     "output_type": "execute_result"
    }
   ],
   "source": [
    "# Geopandas also provide a lot of useful functions.\n",
    "# One such function is to check if a point falls in a particular polygon\n",
    "# Here, we will use this to check what state does bangalore belong to\n",
    "from shapely.geometry import Point,Polygon\n",
    "bangalore = Point(77.580643,12.972442)\n",
    "type(bangalore)"
   ]
  },
  {
   "cell_type": "code",
   "execution_count": 26,
   "metadata": {},
   "outputs": [
    {
     "data": {
      "text/plain": [
       "0     False\n",
       "1     False\n",
       "2     False\n",
       "3     False\n",
       "4     False\n",
       "5     False\n",
       "6     False\n",
       "7     False\n",
       "8     False\n",
       "9     False\n",
       "10    False\n",
       "11    False\n",
       "12    False\n",
       "13    False\n",
       "14    False\n",
       "15    False\n",
       "16     True\n",
       "17    False\n",
       "18    False\n",
       "19    False\n",
       "20    False\n",
       "21    False\n",
       "22    False\n",
       "23    False\n",
       "24    False\n",
       "25    False\n",
       "26    False\n",
       "27    False\n",
       "28    False\n",
       "29    False\n",
       "30    False\n",
       "31    False\n",
       "32    False\n",
       "33    False\n",
       "34    False\n",
       "dtype: bool"
      ]
     },
     "execution_count": 26,
     "metadata": {},
     "output_type": "execute_result"
    }
   ],
   "source": [
    "india_map.contains(bangalore)"
   ]
  },
  {
   "cell_type": "code",
   "execution_count": 27,
   "metadata": {
    "collapsed": true
   },
   "outputs": [],
   "source": [
    "state_bangalore = india_map[india_map.contains(bangalore)]"
   ]
  },
  {
   "cell_type": "code",
   "execution_count": 28,
   "metadata": {},
   "outputs": [
    {
     "data": {
      "text/html": [
       "<div>\n",
       "<style>\n",
       "    .dataframe thead tr:only-child th {\n",
       "        text-align: right;\n",
       "    }\n",
       "\n",
       "    .dataframe thead th {\n",
       "        text-align: left;\n",
       "    }\n",
       "\n",
       "    .dataframe tbody tr th {\n",
       "        vertical-align: top;\n",
       "    }\n",
       "</style>\n",
       "<table border=\"1\" class=\"dataframe\">\n",
       "  <thead>\n",
       "    <tr style=\"text-align: right;\">\n",
       "      <th></th>\n",
       "      <th>statname</th>\n",
       "      <th>geometry</th>\n",
       "    </tr>\n",
       "  </thead>\n",
       "  <tbody>\n",
       "    <tr>\n",
       "      <th>16</th>\n",
       "      <td>Karnataka</td>\n",
       "      <td>(POLYGON ((74.670975 13.199862, 74.670975 13.1...</td>\n",
       "    </tr>\n",
       "  </tbody>\n",
       "</table>\n",
       "</div>"
      ],
      "text/plain": [
       "     statname                                           geometry\n",
       "16  Karnataka  (POLYGON ((74.670975 13.199862, 74.670975 13.1..."
      ]
     },
     "execution_count": 28,
     "metadata": {},
     "output_type": "execute_result"
    }
   ],
   "source": [
    "state_bangalore"
   ]
  },
  {
   "cell_type": "code",
   "execution_count": 29,
   "metadata": {},
   "outputs": [
    {
     "data": {
      "text/plain": [
       "<matplotlib.axes._subplots.AxesSubplot at 0x1191c5470>"
      ]
     },
     "execution_count": 29,
     "metadata": {},
     "output_type": "execute_result"
    },
    {
     "data": {
      "image/png": "[encoded data removed]",
      "text/plain": [
       "<matplotlib.figure.Figure at 0x1191c5be0>"
      ]
     },
     "metadata": {},
     "output_type": "display_data"
    }
   ],
   "source": [
    "state_bangalore.plot()"
   ]
  },
  {
   "cell_type": "markdown",
   "metadata": {},
   "source": [
    "Thus we have correctly found that Bangalore belongs to Karnataka and have also plotted the geometry of this state. This was just a basic introduction to geopandas for visualization purpose. You can check out more functions and methods, along with documentation at http://geopandas.org/index.html."
   ]
  },
  {
   "cell_type": "code",
   "execution_count": null,
   "metadata": {
    "collapsed": true
   },
   "outputs": [],
   "source": []
  }
 ],
 "metadata": {
  "kernelspec": {
   "display_name": "Python 3",
   "language": "python",
   "name": "python3"
  },
  "language_info": {
   "codemirror_mode": {
    "name": "ipython",
    "version": 3
   },
   "file_extension": ".py",
   "mimetype": "text/x-python",
   "name": "python",
   "nbconvert_exporter": "python",
   "pygments_lexer": "ipython3",
   "version": "3.6.1"
  }
 },
 "nbformat": 4,
 "nbformat_minor": 2
}
